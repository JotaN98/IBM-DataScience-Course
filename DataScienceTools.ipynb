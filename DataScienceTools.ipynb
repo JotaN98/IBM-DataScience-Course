{
 "cells": [
  {
   "cell_type": "markdown",
   "id": "ce5e16e3-487e-4de6-9d75-2af166d20f78",
   "metadata": {},
   "source": [
    "# Data Science Tools and Ecosystem"
   ]
  },
  {
   "cell_type": "markdown",
   "id": "cdf92075-6037-4af8-8f5e-8d5ddf3ff864",
   "metadata": {},
   "source": [
    "In this notebook, Data Science Tools and Ecosystem are summarized."
   ]
  },
  {
   "cell_type": "markdown",
   "id": "92272eae-d643-428a-ba05-248318ee55e8",
   "metadata": {},
   "source": [
    "**Objectives:**\n",
    "- List popular languages for Dada Science\n",
    "- List commonly used libraries used by Data Science\n",
    "- Make a table of Data Science Tools\n",
    "- Evaluating arithmetic expressions in Python\n"
   ]
  },
  {
   "cell_type": "markdown",
   "id": "b607c0dd-9179-44aa-aa38-469bd3aec794",
   "metadata": {},
   "source": [
    "Some of the popular languages that Data Scientists use are:\n",
    "1. Python\n",
    "2. R\n",
    "3. Scala"
   ]
  },
  {
   "cell_type": "markdown",
   "id": "a08ae4e7-b80b-4299-962f-e68c84ef591a",
   "metadata": {},
   "source": [
    "Some of the commonly used libraries used by Data Scientist include:\n",
    "1. Pandas\n",
    "2. Matplotlib\n",
    "3. Scikit\n",
    "4. NumPy\n",
    "5. Tensorflow"
   ]
  },
  {
   "cell_type": "markdown",
   "id": "41963c2f-b3de-46ca-973b-9675abfed729",
   "metadata": {},
   "source": [
    "| Data Science Tools |\n",
    "|----|\n",
    "|Python|\n",
    "|Jupyter|\n",
    "|Git|"
   ]
  },
  {
   "cell_type": "markdown",
   "id": "cf44969a-bbdf-4da2-a1c4-5cdd1f471ee4",
   "metadata": {},
   "source": [
    "### Below are a few examples of evaluating arithmetic expressions in Python."
   ]
  },
  {
   "cell_type": "code",
   "execution_count": 1,
   "id": "1d2e9cce-2984-4055-8481-f285bc9f6584",
   "metadata": {},
   "outputs": [
    {
     "data": {
      "text/plain": [
       "17"
      ]
     },
     "execution_count": 1,
     "metadata": {},
     "output_type": "execute_result"
    }
   ],
   "source": [
    "# This is a simple arithmetic expression to multiply then add integers.\n",
    "(3*4)+5"
   ]
  },
  {
   "cell_type": "code",
   "execution_count": 3,
   "id": "6aea210a-0e54-4357-8807-526402d2560e",
   "metadata": {},
   "outputs": [
    {
     "data": {
      "text/plain": [
       "3.3333333333333335"
      ]
     },
     "execution_count": 3,
     "metadata": {},
     "output_type": "execute_result"
    }
   ],
   "source": [
    "# This will convert 200 minutes to hours by dividing by 60\n",
    "200/60"
   ]
  },
  {
   "cell_type": "markdown",
   "id": "c56ad26a-120b-4e88-a02d-aafe2577c2a1",
   "metadata": {},
   "source": [
    "## Author:\n",
    "João Domingos"
   ]
  },
  {
   "cell_type": "code",
   "execution_count": null,
   "id": "3f004403-037d-440f-8f55-e04b8d9f48ca",
   "metadata": {},
   "outputs": [],
   "source": []
  }
 ],
 "metadata": {
  "kernelspec": {
   "display_name": "Python 3 (ipykernel)",
   "language": "python",
   "name": "python3"
  },
  "language_info": {
   "codemirror_mode": {
    "name": "ipython",
    "version": 3
   },
   "file_extension": ".py",
   "mimetype": "text/x-python",
   "name": "python",
   "nbconvert_exporter": "python",
   "pygments_lexer": "ipython3",
   "version": "3.12.3"
  }
 },
 "nbformat": 4,
 "nbformat_minor": 5
}
